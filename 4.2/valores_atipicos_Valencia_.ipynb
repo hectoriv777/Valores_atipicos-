{
  "nbformat": 4,
  "nbformat_minor": 0,
  "metadata": {
    "colab": {
      "provenance": []
    },
    "kernelspec": {
      "name": "python3",
      "display_name": "Python 3"
    },
    "language_info": {
      "name": "python"
    }
  },
  "cells": [
    {
      "cell_type": "code",
      "source": [
        "import pandas as pd\n",
        "import numpy as np\n",
        "import matplotlib.pyplot as plt\n",
        "#Cargar el archivo ya sin nulos\n",
        "df = pd.read_csv(\"df_Valencia_limpio_50cols.csv\")\n",
        "#mostrar valores nulos\n",
        "df.isnull().sum()\n"
      ],
      "metadata": {
        "colab": {
          "base_uri": "https://localhost:8080/",
          "height": 1000
        },
        "collapsed": true,
        "id": "4sedLbz-vG0L",
        "outputId": "d3e87017-4524-49d9-9d26-e72e736536e2"
      },
      "execution_count": 16,
      "outputs": [
        {
          "output_type": "execute_result",
          "data": {
            "text/plain": [
              "id                                              0\n",
              "host_id                                         0\n",
              "neighbourhood                                   0\n",
              "neighbourhood_cleansed                          0\n",
              "neighbourhood_group_cleansed                    0\n",
              "latitude                                        0\n",
              "longitude                                       0\n",
              "property_type                                   0\n",
              "room_type                                       0\n",
              "accommodates                                    0\n",
              "bathrooms                                       0\n",
              "bathrooms_text                                  0\n",
              "bedrooms                                        0\n",
              "beds                                            0\n",
              "amenities                                       0\n",
              "price                                           0\n",
              "minimum_nights                                  0\n",
              "maximum_nights                                  0\n",
              "minimum_minimum_nights                          0\n",
              "maximum_minimum_nights                          0\n",
              "minimum_maximum_nights                          0\n",
              "maximum_maximum_nights                          0\n",
              "minimum_nights_avg_ntm                          0\n",
              "maximum_nights_avg_ntm                          0\n",
              "has_availability                                0\n",
              "availability_30                                 0\n",
              "availability_60                                 0\n",
              "availability_90                                 0\n",
              "availability_365                                0\n",
              "calendar_last_scraped                           0\n",
              "number_of_reviews                               0\n",
              "number_of_reviews_ltm                           0\n",
              "number_of_reviews_l30d                          0\n",
              "first_review                                    0\n",
              "last_review                                     0\n",
              "reviews_per_month                               0\n",
              "review_scores_rating                            0\n",
              "review_scores_accuracy                          0\n",
              "review_scores_cleanliness                       0\n",
              "review_scores_checkin                           0\n",
              "review_scores_communication                     0\n",
              "review_scores_location                          0\n",
              "review_scores_value                             0\n",
              "license                                         0\n",
              "instant_bookable                                0\n",
              "calculated_host_listings_count                  0\n",
              "calculated_host_listings_count_entire_homes     0\n",
              "calculated_host_listings_count_private_rooms    0\n",
              "calculated_host_listings_count_shared_rooms     0\n",
              "host_is_superhost                               0\n",
              "host_identity_verified                          0\n",
              "host_response_time                              0\n",
              "host_since                                      0\n",
              "dtype: int64"
            ],
            "text/html": [
              "<div>\n",
              "<style scoped>\n",
              "    .dataframe tbody tr th:only-of-type {\n",
              "        vertical-align: middle;\n",
              "    }\n",
              "\n",
              "    .dataframe tbody tr th {\n",
              "        vertical-align: top;\n",
              "    }\n",
              "\n",
              "    .dataframe thead th {\n",
              "        text-align: right;\n",
              "    }\n",
              "</style>\n",
              "<table border=\"1\" class=\"dataframe\">\n",
              "  <thead>\n",
              "    <tr style=\"text-align: right;\">\n",
              "      <th></th>\n",
              "      <th>0</th>\n",
              "    </tr>\n",
              "  </thead>\n",
              "  <tbody>\n",
              "    <tr>\n",
              "      <th>id</th>\n",
              "      <td>0</td>\n",
              "    </tr>\n",
              "    <tr>\n",
              "      <th>host_id</th>\n",
              "      <td>0</td>\n",
              "    </tr>\n",
              "    <tr>\n",
              "      <th>neighbourhood</th>\n",
              "      <td>0</td>\n",
              "    </tr>\n",
              "    <tr>\n",
              "      <th>neighbourhood_cleansed</th>\n",
              "      <td>0</td>\n",
              "    </tr>\n",
              "    <tr>\n",
              "      <th>neighbourhood_group_cleansed</th>\n",
              "      <td>0</td>\n",
              "    </tr>\n",
              "    <tr>\n",
              "      <th>latitude</th>\n",
              "      <td>0</td>\n",
              "    </tr>\n",
              "    <tr>\n",
              "      <th>longitude</th>\n",
              "      <td>0</td>\n",
              "    </tr>\n",
              "    <tr>\n",
              "      <th>property_type</th>\n",
              "      <td>0</td>\n",
              "    </tr>\n",
              "    <tr>\n",
              "      <th>room_type</th>\n",
              "      <td>0</td>\n",
              "    </tr>\n",
              "    <tr>\n",
              "      <th>accommodates</th>\n",
              "      <td>0</td>\n",
              "    </tr>\n",
              "    <tr>\n",
              "      <th>bathrooms</th>\n",
              "      <td>0</td>\n",
              "    </tr>\n",
              "    <tr>\n",
              "      <th>bathrooms_text</th>\n",
              "      <td>0</td>\n",
              "    </tr>\n",
              "    <tr>\n",
              "      <th>bedrooms</th>\n",
              "      <td>0</td>\n",
              "    </tr>\n",
              "    <tr>\n",
              "      <th>beds</th>\n",
              "      <td>0</td>\n",
              "    </tr>\n",
              "    <tr>\n",
              "      <th>amenities</th>\n",
              "      <td>0</td>\n",
              "    </tr>\n",
              "    <tr>\n",
              "      <th>price</th>\n",
              "      <td>0</td>\n",
              "    </tr>\n",
              "    <tr>\n",
              "      <th>minimum_nights</th>\n",
              "      <td>0</td>\n",
              "    </tr>\n",
              "    <tr>\n",
              "      <th>maximum_nights</th>\n",
              "      <td>0</td>\n",
              "    </tr>\n",
              "    <tr>\n",
              "      <th>minimum_minimum_nights</th>\n",
              "      <td>0</td>\n",
              "    </tr>\n",
              "    <tr>\n",
              "      <th>maximum_minimum_nights</th>\n",
              "      <td>0</td>\n",
              "    </tr>\n",
              "    <tr>\n",
              "      <th>minimum_maximum_nights</th>\n",
              "      <td>0</td>\n",
              "    </tr>\n",
              "    <tr>\n",
              "      <th>maximum_maximum_nights</th>\n",
              "      <td>0</td>\n",
              "    </tr>\n",
              "    <tr>\n",
              "      <th>minimum_nights_avg_ntm</th>\n",
              "      <td>0</td>\n",
              "    </tr>\n",
              "    <tr>\n",
              "      <th>maximum_nights_avg_ntm</th>\n",
              "      <td>0</td>\n",
              "    </tr>\n",
              "    <tr>\n",
              "      <th>has_availability</th>\n",
              "      <td>0</td>\n",
              "    </tr>\n",
              "    <tr>\n",
              "      <th>availability_30</th>\n",
              "      <td>0</td>\n",
              "    </tr>\n",
              "    <tr>\n",
              "      <th>availability_60</th>\n",
              "      <td>0</td>\n",
              "    </tr>\n",
              "    <tr>\n",
              "      <th>availability_90</th>\n",
              "      <td>0</td>\n",
              "    </tr>\n",
              "    <tr>\n",
              "      <th>availability_365</th>\n",
              "      <td>0</td>\n",
              "    </tr>\n",
              "    <tr>\n",
              "      <th>calendar_last_scraped</th>\n",
              "      <td>0</td>\n",
              "    </tr>\n",
              "    <tr>\n",
              "      <th>number_of_reviews</th>\n",
              "      <td>0</td>\n",
              "    </tr>\n",
              "    <tr>\n",
              "      <th>number_of_reviews_ltm</th>\n",
              "      <td>0</td>\n",
              "    </tr>\n",
              "    <tr>\n",
              "      <th>number_of_reviews_l30d</th>\n",
              "      <td>0</td>\n",
              "    </tr>\n",
              "    <tr>\n",
              "      <th>first_review</th>\n",
              "      <td>0</td>\n",
              "    </tr>\n",
              "    <tr>\n",
              "      <th>last_review</th>\n",
              "      <td>0</td>\n",
              "    </tr>\n",
              "    <tr>\n",
              "      <th>reviews_per_month</th>\n",
              "      <td>0</td>\n",
              "    </tr>\n",
              "    <tr>\n",
              "      <th>review_scores_rating</th>\n",
              "      <td>0</td>\n",
              "    </tr>\n",
              "    <tr>\n",
              "      <th>review_scores_accuracy</th>\n",
              "      <td>0</td>\n",
              "    </tr>\n",
              "    <tr>\n",
              "      <th>review_scores_cleanliness</th>\n",
              "      <td>0</td>\n",
              "    </tr>\n",
              "    <tr>\n",
              "      <th>review_scores_checkin</th>\n",
              "      <td>0</td>\n",
              "    </tr>\n",
              "    <tr>\n",
              "      <th>review_scores_communication</th>\n",
              "      <td>0</td>\n",
              "    </tr>\n",
              "    <tr>\n",
              "      <th>review_scores_location</th>\n",
              "      <td>0</td>\n",
              "    </tr>\n",
              "    <tr>\n",
              "      <th>review_scores_value</th>\n",
              "      <td>0</td>\n",
              "    </tr>\n",
              "    <tr>\n",
              "      <th>license</th>\n",
              "      <td>0</td>\n",
              "    </tr>\n",
              "    <tr>\n",
              "      <th>instant_bookable</th>\n",
              "      <td>0</td>\n",
              "    </tr>\n",
              "    <tr>\n",
              "      <th>calculated_host_listings_count</th>\n",
              "      <td>0</td>\n",
              "    </tr>\n",
              "    <tr>\n",
              "      <th>calculated_host_listings_count_entire_homes</th>\n",
              "      <td>0</td>\n",
              "    </tr>\n",
              "    <tr>\n",
              "      <th>calculated_host_listings_count_private_rooms</th>\n",
              "      <td>0</td>\n",
              "    </tr>\n",
              "    <tr>\n",
              "      <th>calculated_host_listings_count_shared_rooms</th>\n",
              "      <td>0</td>\n",
              "    </tr>\n",
              "    <tr>\n",
              "      <th>host_is_superhost</th>\n",
              "      <td>0</td>\n",
              "    </tr>\n",
              "    <tr>\n",
              "      <th>host_identity_verified</th>\n",
              "      <td>0</td>\n",
              "    </tr>\n",
              "    <tr>\n",
              "      <th>host_response_time</th>\n",
              "      <td>0</td>\n",
              "    </tr>\n",
              "    <tr>\n",
              "      <th>host_since</th>\n",
              "      <td>0</td>\n",
              "    </tr>\n",
              "  </tbody>\n",
              "</table>\n",
              "</div><br><label><b>dtype:</b> int64</label>"
            ]
          },
          "metadata": {},
          "execution_count": 16
        }
      ]
    },
    {
      "cell_type": "code",
      "source": [
        "plt.figure(figsize=(10, 4))\n",
        "df[\"price\"].plot(kind=\"box\", vert=False)\n",
        "plt.title(\"Boxplot 'price' antes de IQR\")\n",
        "plt.tight_layout()\n",
        "plt.show()"
      ],
      "metadata": {
        "colab": {
          "base_uri": "https://localhost:8080/",
          "height": 407
        },
        "id": "FYuy8V_Z0cGF",
        "outputId": "7a873fd9-2750-4ec1-8609-91ccb02a44e1"
      },
      "execution_count": 40,
      "outputs": [
        {
          "output_type": "display_data",
          "data": {
            "text/plain": [
              "<Figure size 1000x400 with 1 Axes>"
            ],
            "image/png": "[encoded data removed]"
          },
          "metadata": {}
        }
      ]
    },
    {
      "cell_type": "code",
      "source": [
        "#Separar cuantitativas y cualitativas\n",
        "cuantitativas = df.select_dtypes(include=[np.number])\n",
        "cualitativas  = df.select_dtypes(exclude=[np.number])"
      ],
      "metadata": {
        "id": "QSFFiMHUwUYY"
      },
      "execution_count": 17,
      "outputs": []
    },
    {
      "cell_type": "code",
      "source": [
        "# 3) Método IQR\n",
        "y = cuantitativas\n",
        "Q1 = y.quantile(0.25)\n",
        "Q3 = y.quantile(0.75)\n",
        "IQR = Q3 - Q1\n",
        "limite_inferior = Q1 - 1.5 * IQR\n",
        "limite_superior = Q3 + 1.5 * IQR\n"
      ],
      "metadata": {
        "id": "_jZ9nZKlwYf_"
      },
      "execution_count": 18,
      "outputs": []
    },
    {
      "cell_type": "code",
      "source": [
        "\n",
        "# Mostrar tabla de límites por columna\n",
        "limites = pd.DataFrame({\n",
        "    \"IQR\": IQR,\n",
        "    \"Límite Inferior\": limite_inferior,\n",
        "    \"Límite Superior\": limite_superior,\n",
        "    \"IQR\": IQR,\n",
        "})\n",
        "print(\" Límites calculados por columna (IQR):\")\n",
        "print(limites)\n"
      ],
      "metadata": {
        "colab": {
          "base_uri": "https://localhost:8080/"
        },
        "id": "UJuJaFonwemX",
        "outputId": "caf8b822-0bc1-4c18-fe05-a59d47aa79c6"
      },
      "execution_count": 22,
      "outputs": [
        {
          "output_type": "stream",
          "name": "stdout",
          "text": [
            " Límites calculados por columna (IQR):\n",
            "                                                       IQR  Límite Inferior  \\\n",
            "id                                            1.248780e+18    -1.873170e+18   \n",
            "host_id                                       4.346501e+08    -5.851650e+08   \n",
            "latitude                                      1.338000e-02     3.944172e+01   \n",
            "longitude                                     3.521000e-02    -4.325950e-01   \n",
            "accommodates                                  2.000000e+00    -1.000000e+00   \n",
            "bathrooms                                     0.000000e+00     1.000000e+00   \n",
            "bedrooms                                      1.000000e+00    -5.000000e-01   \n",
            "beds                                          2.000000e+00    -2.000000e+00   \n",
            "price                                         6.500000e+01    -2.550000e+01   \n",
            "minimum_nights                                4.000000e+00    -5.000000e+00   \n",
            "maximum_nights                                2.750000e+02    -3.225000e+02   \n",
            "minimum_minimum_nights                        3.000000e+00    -3.500000e+00   \n",
            "maximum_minimum_nights                        8.000000e+00    -1.000000e+01   \n",
            "minimum_maximum_nights                        1.094000e+03    -1.610000e+03   \n",
            "maximum_maximum_nights                        9.450000e+02    -1.237500e+03   \n",
            "minimum_nights_avg_ntm                        6.100000e+00    -7.150000e+00   \n",
            "maximum_nights_avg_ntm                        9.750000e+02    -1.312500e+03   \n",
            "availability_30                               1.500000e+01    -1.950000e+01   \n",
            "availability_60                               3.100000e+01    -3.750000e+01   \n",
            "availability_90                               4.600000e+01    -4.900000e+01   \n",
            "availability_365                              2.060000e+02    -2.350000e+02   \n",
            "number_of_reviews                             5.100000e+01    -7.450000e+01   \n",
            "number_of_reviews_ltm                         1.900000e+01    -2.750000e+01   \n",
            "number_of_reviews_l30d                        2.000000e+00    -3.000000e+00   \n",
            "reviews_per_month                             2.000000e+00    -2.810000e+00   \n",
            "review_scores_rating                          6.000000e-01     3.390000e+00   \n",
            "review_scores_accuracy                        5.100000e-01     3.645000e+00   \n",
            "review_scores_cleanliness                     6.600000e-01     3.260000e+00   \n",
            "review_scores_checkin                         4.600000e-01     3.810000e+00   \n",
            "review_scores_communication                   4.700000e-01     3.795000e+00   \n",
            "review_scores_location                        5.900000e-01     3.425000e+00   \n",
            "review_scores_value                           6.700000e-01     3.125000e+00   \n",
            "calculated_host_listings_count                1.000000e+01    -1.400000e+01   \n",
            "calculated_host_listings_count_entire_homes   7.000000e+00    -9.500000e+00   \n",
            "calculated_host_listings_count_private_rooms  1.000000e+00    -1.500000e+00   \n",
            "calculated_host_listings_count_shared_rooms   0.000000e+00     0.000000e+00   \n",
            "\n",
            "                                              Límite Superior  \n",
            "id                                               3.121950e+18  \n",
            "host_id                                          1.153436e+09  \n",
            "latitude                                         3.949524e+01  \n",
            "longitude                                       -2.917550e-01  \n",
            "accommodates                                     7.000000e+00  \n",
            "bathrooms                                        1.000000e+00  \n",
            "bedrooms                                         3.500000e+00  \n",
            "beds                                             6.000000e+00  \n",
            "price                                            2.345000e+02  \n",
            "minimum_nights                                   1.100000e+01  \n",
            "maximum_nights                                   7.775000e+02  \n",
            "minimum_minimum_nights                           8.500000e+00  \n",
            "maximum_minimum_nights                           2.200000e+01  \n",
            "minimum_maximum_nights                           2.766000e+03  \n",
            "maximum_maximum_nights                           2.542500e+03  \n",
            "minimum_nights_avg_ntm                           1.725000e+01  \n",
            "maximum_nights_avg_ntm                           2.587500e+03  \n",
            "availability_30                                  4.050000e+01  \n",
            "availability_60                                  8.650000e+01  \n",
            "availability_90                                  1.350000e+02  \n",
            "availability_365                                 5.890000e+02  \n",
            "number_of_reviews                                1.295000e+02  \n",
            "number_of_reviews_ltm                            4.850000e+01  \n",
            "number_of_reviews_l30d                           5.000000e+00  \n",
            "reviews_per_month                                5.190000e+00  \n",
            "review_scores_rating                             5.790000e+00  \n",
            "review_scores_accuracy                           5.685000e+00  \n",
            "review_scores_cleanliness                        5.900000e+00  \n",
            "review_scores_checkin                            5.650000e+00  \n",
            "review_scores_communication                      5.675000e+00  \n",
            "review_scores_location                           5.785000e+00  \n",
            "review_scores_value                              5.805000e+00  \n",
            "calculated_host_listings_count                   2.600000e+01  \n",
            "calculated_host_listings_count_entire_homes      1.850000e+01  \n",
            "calculated_host_listings_count_private_rooms     2.500000e+00  \n",
            "calculated_host_listings_count_shared_rooms      0.000000e+00  \n"
          ]
        }
      ]
    },
    {
      "cell_type": "code",
      "source": [
        "# 5) Detectar outliers (se convierten en NaN)\n",
        "df_outliers_nan = y.copy()\n",
        "for col in y.columns:\n",
        "    df_outliers_nan[col] = y[col].where(\n",
        "        (y[col] >= limite_inferior[col]) & (y[col] <= limite_superior[col]),\n",
        "        np.nan\n",
        "    )"
      ],
      "metadata": {
        "id": "p3Yb_4guxGnf"
      },
      "execution_count": 24,
      "outputs": []
    },
    {
      "cell_type": "code",
      "source": [
        "# 6) Mostrar cuántos outliers se detectaron por columna\n",
        "outliers_count = df_outliers_nan.isna().sum()\n",
        "print(\" Total de outliers detectados por columna:\")\n",
        "print(outliers_count)"
      ],
      "metadata": {
        "colab": {
          "base_uri": "https://localhost:8080/"
        },
        "id": "3NSVVcUwxfMZ",
        "outputId": "64107779-30bb-4373-93eb-a9b096ad5aa2"
      },
      "execution_count": 27,
      "outputs": [
        {
          "output_type": "stream",
          "name": "stdout",
          "text": [
            " Total de outliers detectados por columna:\n",
            "id                                                 0\n",
            "host_id                                            0\n",
            "latitude                                         357\n",
            "longitude                                         44\n",
            "accommodates                                     356\n",
            "bathrooms                                       2379\n",
            "bedrooms                                         397\n",
            "beds                                             107\n",
            "price                                            585\n",
            "minimum_nights                                   993\n",
            "maximum_nights                                  2051\n",
            "minimum_minimum_nights                          1652\n",
            "maximum_minimum_nights                           972\n",
            "minimum_maximum_nights                             0\n",
            "maximum_maximum_nights                             0\n",
            "minimum_nights_avg_ntm                           905\n",
            "maximum_nights_avg_ntm                             0\n",
            "availability_30                                    0\n",
            "availability_60                                    0\n",
            "availability_90                                    0\n",
            "availability_365                                   0\n",
            "number_of_reviews                               1013\n",
            "number_of_reviews_ltm                            473\n",
            "number_of_reviews_l30d                           341\n",
            "reviews_per_month                                269\n",
            "review_scores_rating                            1608\n",
            "review_scores_accuracy                          1631\n",
            "review_scores_cleanliness                       1617\n",
            "review_scores_checkin                           1624\n",
            "review_scores_communication                     1633\n",
            "review_scores_location                          1570\n",
            "review_scores_value                             1635\n",
            "calculated_host_listings_count                  1252\n",
            "calculated_host_listings_count_entire_homes     1419\n",
            "calculated_host_listings_count_private_rooms    1497\n",
            "calculated_host_listings_count_shared_rooms       21\n",
            "dtype: int64\n"
          ]
        }
      ]
    },
    {
      "cell_type": "code",
      "source": [
        "# Reemplazar NaN con media (solo de valores válidos)\n",
        "df_outliers_mean = df_outliers_nan.copy()\n",
        "df_outliers_mean = df_outliers_mean.fillna(df_outliers_nan.mean().round(1))"
      ],
      "metadata": {
        "id": "4oURo0VTx50p"
      },
      "execution_count": 31,
      "outputs": []
    },
    {
      "cell_type": "code",
      "source": [
        "#Mostrar si verdadera se limpiaron con mean\n",
        "outliers_count = df_outliers_mean.isna().sum()\n",
        "print(\" Total de outliers detectados por columna:\")\n",
        "print(outliers_count)"
      ],
      "metadata": {
        "colab": {
          "base_uri": "https://localhost:8080/"
        },
        "collapsed": true,
        "id": "LJjW5FXtyBQA",
        "outputId": "17968377-126f-4cdf-d4fc-f8c3ff2eb6bf"
      },
      "execution_count": 34,
      "outputs": [
        {
          "output_type": "stream",
          "name": "stdout",
          "text": [
            " Total de outliers detectados por columna:\n",
            "id                                              0\n",
            "host_id                                         0\n",
            "latitude                                        0\n",
            "longitude                                       0\n",
            "accommodates                                    0\n",
            "bathrooms                                       0\n",
            "bedrooms                                        0\n",
            "beds                                            0\n",
            "price                                           0\n",
            "minimum_nights                                  0\n",
            "maximum_nights                                  0\n",
            "minimum_minimum_nights                          0\n",
            "maximum_minimum_nights                          0\n",
            "minimum_maximum_nights                          0\n",
            "maximum_maximum_nights                          0\n",
            "minimum_nights_avg_ntm                          0\n",
            "maximum_nights_avg_ntm                          0\n",
            "availability_30                                 0\n",
            "availability_60                                 0\n",
            "availability_90                                 0\n",
            "availability_365                                0\n",
            "number_of_reviews                               0\n",
            "number_of_reviews_ltm                           0\n",
            "number_of_reviews_l30d                          0\n",
            "reviews_per_month                               0\n",
            "review_scores_rating                            0\n",
            "review_scores_accuracy                          0\n",
            "review_scores_cleanliness                       0\n",
            "review_scores_checkin                           0\n",
            "review_scores_communication                     0\n",
            "review_scores_location                          0\n",
            "review_scores_value                             0\n",
            "calculated_host_listings_count                  0\n",
            "calculated_host_listings_count_entire_homes     0\n",
            "calculated_host_listings_count_private_rooms    0\n",
            "calculated_host_listings_count_shared_rooms     0\n",
            "dtype: int64\n"
          ]
        }
      ]
    },
    {
      "cell_type": "code",
      "source": [
        "# Unir cualitativas + cuantitativas limpias\n",
        "df_final = pd.concat([cualitativas.reset_index(drop=True),\n",
        "                      df_outliers_mean.reset_index(drop=True)], axis=1)"
      ],
      "metadata": {
        "id": "kQAPFtEbyoyQ"
      },
      "execution_count": 35,
      "outputs": []
    },
    {
      "cell_type": "code",
      "source": [
        "# 10) Confirmar número de columnas final\n",
        "print(\"Columnas originales:\", df.shape[1])\n",
        "print(\" Columnas finales:\", df_final.shape[1])"
      ],
      "metadata": {
        "colab": {
          "base_uri": "https://localhost:8080/"
        },
        "id": "x98Gi1XVyumL",
        "outputId": "10c49105-181c-49ef-db88-713ff4747976"
      },
      "execution_count": 37,
      "outputs": [
        {
          "output_type": "stream",
          "name": "stdout",
          "text": [
            "Columnas originales: 53\n",
            " Columnas finales: 53\n"
          ]
        }
      ]
    },
    {
      "cell_type": "code",
      "source": [
        "# 11) Guardar archivo final limpio\n",
        "df_final.to_csv(\"valencia_IQR_corregido.csv\", index=False)"
      ],
      "metadata": {
        "id": "a1O4dIR9yxtd"
      },
      "execution_count": 42,
      "outputs": []
    },
    {
      "cell_type": "code",
      "source": [
        "plt.figure(figsize=(10, 4))\n",
        "df_final[\"price\"].plot(kind=\"box\", vert=False)\n",
        "plt.title(\"Boxplot 'price' después de IQR\")\n",
        "plt.tight_layout()\n",
        "plt.show()\n"
      ],
      "metadata": {
        "colab": {
          "base_uri": "https://localhost:8080/",
          "height": 407
        },
        "id": "IOWVcznL00-3",
        "outputId": "44b8a8d9-acbd-46e9-96b4-48166587b80a"
      },
      "execution_count": 41,
      "outputs": [
        {
          "output_type": "display_data",
          "data": {
            "text/plain": [
              "<Figure size 1000x400 with 1 Axes>"
            ],
            "image/png": "[encoded data removed]"
          },
          "metadata": {}
        }
      ]
    }
  ]
}